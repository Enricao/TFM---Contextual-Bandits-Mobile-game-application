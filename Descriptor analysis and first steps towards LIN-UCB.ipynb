{
 "cells": [
  {
   "cell_type": "code",
   "execution_count": 1,
   "id": "b07aa0db",
   "metadata": {},
   "outputs": [],
   "source": [
    "import numpy as np\n",
    "import pandas as pd\n",
    "import matplotlib.pyplot as plt\n",
    "from tqdm import tqdm\n",
    "import random\n",
    "from Utils_2 import *\n",
    "from linUCB_1 import *\n",
    "import seaborn as sns"
   ]
  },
  {
   "cell_type": "code",
   "execution_count": 2,
   "id": "8fda9a66",
   "metadata": {},
   "outputs": [],
   "source": [
    "data = pd.read_csv('sp_abtests_syntetic_data_batch1.csv')\n",
    "dataExt2 = pd.read_csv('DataExtra/game1.csv')\n",
    "dataExt3 = pd.read_csv('DataExtra/game3.csv')"
   ]
  },
  {
   "cell_type": "code",
   "execution_count": 3,
   "id": "44eff15b",
   "metadata": {},
   "outputs": [],
   "source": [
    "#dataExt[\"NGU\"] = (data.ab_test_datetime_start == data.register_date_alias) * 1\n",
    "dataExt2[\"NGU\"] = (dataExt2.ab_test_datetime_start == dataExt2.register_date_alias) * 1\n",
    "dataExt3[\"NGU\"] = (dataExt3.ab_test_datetime_start == dataExt3.register_date_alias) * 1"
   ]
  },
  {
   "cell_type": "code",
   "execution_count": 4,
   "id": "42905b93",
   "metadata": {
    "scrolled": true
   },
   "outputs": [
    {
     "name": "stdout",
     "output_type": "stream",
     "text": [
      "ID: 3495\n",
      "\tTotal:  486295\n",
      "\tNGU: 324780\n",
      "\tNon-NGU: 161515\n",
      "\tNum Arms: 3\n",
      "ID: 3552\n",
      "\tTotal:  458911\n",
      "\tNGU: 441625\n",
      "\tNon-NGU: 17286\n",
      "\tNum Arms: 2\n",
      "ID: 3582\n",
      "\tTotal:  301515\n",
      "\tNGU: 289806\n",
      "\tNon-NGU: 11709\n",
      "\tNum Arms: 4\n",
      "ID: 3473\n",
      "\tTotal:  285731\n",
      "\tNGU: 277557\n",
      "\tNon-NGU: 8174\n",
      "\tNum Arms: 4\n",
      "ID: 3457\n",
      "\tTotal:  247844\n",
      "\tNGU: 240962\n",
      "\tNon-NGU: 6882\n",
      "\tNum Arms: 4\n",
      "ID: 3454\n",
      "\tTotal:  245962\n",
      "\tNGU: 239217\n",
      "\tNon-NGU: 6745\n",
      "\tNum Arms: 2\n",
      "ID: 3565\n",
      "\tTotal:  225935\n",
      "\tNGU: 190529\n",
      "\tNon-NGU: 35406\n",
      "\tNum Arms: 2\n",
      "ID: 3420\n",
      "\tTotal:  184148\n",
      "\tNGU: 175281\n",
      "\tNon-NGU: 8867\n",
      "\tNum Arms: 2\n",
      "ID: 3507\n",
      "\tTotal:  163803\n",
      "\tNGU: 134055\n",
      "\tNon-NGU: 29748\n",
      "\tNum Arms: 4\n",
      "ID: 3526\n",
      "\tTotal:  159849\n",
      "\tNGU: 154586\n",
      "\tNon-NGU: 5263\n",
      "\tNum Arms: 3\n",
      "\n",
      "Unique A/B: [3420 3454 3457 3473 3495 3507 3526 3552 3565 3582]\n"
     ]
    }
   ],
   "source": [
    "Check_ABTestId(dataExt2)"
   ]
  },
  {
   "cell_type": "code",
   "execution_count": 5,
   "id": "a9c7466e",
   "metadata": {},
   "outputs": [
    {
     "name": "stdout",
     "output_type": "stream",
     "text": [
      "Number of cases:  2759993\n",
      "Number of cases:  4651007\n"
     ]
    }
   ],
   "source": [
    "#print(\"Number of cases: \",dataExt.shape[0])\n",
    "print(\"Number of cases: \",dataExt2.shape[0])\n",
    "print(\"Number of cases: \",dataExt3.shape[0])"
   ]
  },
  {
   "cell_type": "code",
   "execution_count": 6,
   "id": "99faa5ea",
   "metadata": {},
   "outputs": [
    {
     "name": "stdout",
     "output_type": "stream",
     "text": [
      "\n",
      "DataExtra3 different A/B tests counts:\n",
      "3350    1381702\n",
      "3301     776402\n",
      "3331     717633\n",
      "3292     706119\n",
      "3346     655856\n",
      "3307     413295\n",
      "Name: ab_test_id, dtype: int64\n",
      "\n",
      "DataExtra2 different A/B tests counts:\n",
      "3495    486295\n",
      "3552    458911\n",
      "3582    301515\n",
      "3473    285731\n",
      "3457    247844\n",
      "3454    245962\n",
      "3565    225935\n",
      "3420    184148\n",
      "3507    163803\n",
      "3526    159849\n",
      "Name: ab_test_id, dtype: int64\n"
     ]
    }
   ],
   "source": [
    "Features_ALL = [\"ab_test_id\", \"ab_test_experience_id\", \"country_alias\", \"platform_alias\", \"source_alias\", \"NGU\",\n",
    "            \"return_d1\", \"converted_d1\", \"ad_revenue_d1\", \"time_played_d1\", \"num_sessions_d1\", \"num_impressions_d1\", \"num_transactions_d1\", \"iap_revenue_d1\",\n",
    "            \"return_d3\", \"converted_d3\", \"ad_revenue_d3\", \"time_played_d3\", \"num_sessions_d3\", \"num_impressions_d3\", \"num_transactions_d3\", \"iap_revenue_d3\", \n",
    "            \"return_d7\", \"converted_d7\", \"ad_revenue_d7\", \"time_played_d7\", \"num_sessions_d7\", \"num_impressions_7\", \"num_transactions_d7\", \"iap_revenue_d7\"]\n",
    "\n",
    "data_big2 = dataExt2[Features_ALL].copy()\n",
    "data_big3 = dataExt3[Features_ALL].copy()\n",
    "print(\"\\nDataExtra3 different A/B tests counts:\")\n",
    "print(data_big3.ab_test_id.value_counts())\n",
    "print(\"\\nDataExtra2 different A/B tests counts:\")\n",
    "print(data_big2.ab_test_id.value_counts())"
   ]
  },
  {
   "cell_type": "code",
   "execution_count": null,
   "id": "344e0e8e",
   "metadata": {},
   "outputs": [],
   "source": []
  },
  {
   "cell_type": "code",
   "execution_count": 7,
   "id": "1c9d697f",
   "metadata": {},
   "outputs": [
    {
     "name": "stdout",
     "output_type": "stream",
     "text": [
      "2 Arms data shape: (743103, 30)\n",
      "4 Arms data shape: (289806, 30)\n"
     ]
    }
   ],
   "source": [
    "Test_ID_big = 3301\n",
    "Test_ID_big2 = 3582\n",
    "NGU = 1\n",
    "DataDef = data_big3[(data_big3.ab_test_id == Test_ID_big) & (data_big3.NGU == NGU)]\n",
    "DataDef2 = data_big2[(data_big2.ab_test_id == Test_ID_big2) & (data_big2.NGU == NGU)]\n",
    "print(\"2 Arms data shape:\", DataDef.shape)\n",
    "print(\"4 Arms data shape:\", DataDef2.shape)\n",
    "\n",
    "Features_Dummie = [\"country_alias\", \"platform_alias\", \"source_alias\"]\n",
    "DataDef_cat = CreateDummies(DataDef, Features_Dummie)\n",
    "DataDef_cat2 = CreateDummies(DataDef2, Features_Dummie)"
   ]
  },
  {
   "cell_type": "markdown",
   "id": "ebb104c4",
   "metadata": {},
   "source": [
    "After some research has been done, we will use ID:3301 for 2 arms problem and ID:3582 for 4 arms bandit"
   ]
  },
  {
   "cell_type": "markdown",
   "id": "1bfe6cd4",
   "metadata": {},
   "source": [
    "### Exploration of ID == 3301"
   ]
  },
  {
   "cell_type": "code",
   "execution_count": 11,
   "id": "8233fb21",
   "metadata": {},
   "outputs": [
    {
     "data": {
      "text/plain": [
       "Index(['ab_test_id', 'ab_test_experience_id', 'country_alias',\n",
       "       'platform_alias', 'source_alias', 'NGU', 'return_d1', 'converted_d1',\n",
       "       'ad_revenue_d1', 'time_played_d1', 'num_sessions_d1',\n",
       "       'num_impressions_d1', 'num_transactions_d1', 'iap_revenue_d1',\n",
       "       'return_d3', 'converted_d3', 'ad_revenue_d3', 'time_played_d3',\n",
       "       'num_sessions_d3', 'num_impressions_d3', 'num_transactions_d3',\n",
       "       'iap_revenue_d3', 'return_d7', 'converted_d7', 'ad_revenue_d7',\n",
       "       'time_played_d7', 'num_sessions_d7', 'num_impressions_7',\n",
       "       'num_transactions_d7', 'iap_revenue_d7'],\n",
       "      dtype='object')"
      ]
     },
     "execution_count": 11,
     "metadata": {},
     "output_type": "execute_result"
    }
   ],
   "source": [
    "DataDef.keys()"
   ]
  },
  {
   "cell_type": "code",
   "execution_count": 14,
   "id": "9746d282",
   "metadata": {},
   "outputs": [
    {
     "data": {
      "text/plain": [
       "<pandas.core.groupby.generic.DataFrameGroupBy object at 0x0000029C37B48100>"
      ]
     },
     "execution_count": 14,
     "metadata": {},
     "output_type": "execute_result"
    }
   ],
   "source": [
    "DataDef.groupby(\"ab_test_experience_id\")"
   ]
  },
  {
   "cell_type": "code",
   "execution_count": null,
   "id": "32e72469",
   "metadata": {},
   "outputs": [],
   "source": [
    "# rename columns\n",
    "grouped_single.columns = ['age_mean', 'age_min', 'age_max']\n",
    "\n",
    "# reset index to get grouped columns back\n",
    "grouped_single = grouped_single.reset_index()\n",
    "\n",
    "print(grouped_single)"
   ]
  },
  {
   "cell_type": "code",
   "execution_count": 37,
   "id": "202796ea",
   "metadata": {},
   "outputs": [],
   "source": [
    "Actual_Dataset = DataDef_cat.sample(n=70000, random_state=32)\n",
    "Actual_Dataset2 = DataDef_cat2.sample(n=140000, random_state=31)"
   ]
  },
  {
   "cell_type": "code",
   "execution_count": null,
   "id": "317d4de6",
   "metadata": {},
   "outputs": [],
   "source": [
    "pd.pivot_table(Actual_Dataset,index = [\"\",”Status”],columns=[“Product”],aggfunc=[np.sum]"
   ]
  },
  {
   "cell_type": "code",
   "execution_count": 33,
   "id": "2ca67f60",
   "metadata": {},
   "outputs": [
    {
     "name": "stdout",
     "output_type": "stream",
     "text": [
      "country_group3    0.570469\n",
      "country_group1    0.274958\n",
      "country_group2    0.154573\n",
      "Name: country_alias, dtype: float64\n",
      "\n",
      "country_group3    0.569258\n",
      "country_group1    0.275581\n",
      "country_group2    0.155161\n",
      "Name: country_alias, dtype: float64\n"
     ]
    }
   ],
   "source": [
    "print(DataDef[DataDef[\"ab_test_experience_id\"] == 0][\"country_alias\"].value_counts(normalize=True))\n",
    "print(\"\")\n",
    "print(DataDef[DataDef[\"ab_test_experience_id\"] == 1][\"country_alias\"].value_counts(normalize=True))"
   ]
  },
  {
   "cell_type": "code",
   "execution_count": 16,
   "id": "af6e518a",
   "metadata": {},
   "outputs": [
    {
     "name": "stdout",
     "output_type": "stream",
     "text": [
      "source2    0.778062\n",
      "source1    0.221938\n",
      "Name: source_alias, dtype: float64\n",
      "\n",
      "source2    0.778698\n",
      "source1    0.221302\n",
      "Name: source_alias, dtype: float64\n"
     ]
    }
   ],
   "source": [
    "print(DataDef[DataDef[\"ab_test_experience_id\"] == 0][\"source_alias\"].value_counts(normalize=True))\n",
    "print(\"\")\n",
    "print(DataDef[DataDef[\"ab_test_experience_id\"] == 1][\"source_alias\"].value_counts(normalize=True))"
   ]
  },
  {
   "cell_type": "code",
   "execution_count": 17,
   "id": "14c46d09",
   "metadata": {},
   "outputs": [
    {
     "name": "stdout",
     "output_type": "stream",
     "text": [
      "platform1    0.756794\n",
      "platform2    0.243206\n",
      "Name: platform_alias, dtype: float64\n",
      "\n",
      "platform1    0.755214\n",
      "platform2    0.244786\n",
      "Name: platform_alias, dtype: float64\n"
     ]
    }
   ],
   "source": [
    "print(DataDef[DataDef[\"ab_test_experience_id\"] == 0][\"platform_alias\"].value_counts(normalize=True))\n",
    "print(\"\")\n",
    "print(DataDef[DataDef[\"ab_test_experience_id\"] == 1][\"platform_alias\"].value_counts(normalize=True))"
   ]
  },
  {
   "cell_type": "code",
   "execution_count": 44,
   "id": "a517061c",
   "metadata": {
    "scrolled": true
   },
   "outputs": [
    {
     "name": "stdout",
     "output_type": "stream",
     "text": [
      "=-=-=-=-=-=-=-=-=-=-=-=-=-=-=-=-=-=-=-=-=-=\n",
      "Return day 1 day feature:\n",
      "AB Test 0: 0.4425867075703076\n",
      "AB Test 1: 0.44215927905383906\n",
      "=-=-=-=-=-=-=-=-=-=-=-=-=-=-=-=-=-=-=-=-=-=\n",
      "Return day 3 day feature:\n",
      "AB Test 1: 0.25650827251065794\n",
      "AB Test 0: 0.2581368007205147\n",
      "=-=-=-=-=-=-=-=-=-=-=-=-=-=-=-=-=-=-=-=-=-=\n",
      "Return day 7 feature:\n",
      "AB Test 0: 0.16657309331993758\n",
      "AB Test 1: 0.16732821710359555\n",
      "=-=-=-=-=-=-=-=-=-=-=-=-=-=-=-=-=-=-=-=-=-=\n",
      "\n",
      "Num sessions percentage of 0s for day 1:\n",
      "AB Test 0: 0.5574132924296924\n",
      "AB Test 1: 0.557840720946161\n",
      "\n",
      "Num sessions percentage of 0s for day 3:\n",
      "AB Test 0: 0.743491727489342\n",
      "AB Test 1: 0.7418631992794853\n",
      "\n",
      "Num sessions percentage of 0s for day 7:\n",
      "AB Test 0: 0.8334269066800625\n",
      "AB Test 1: 0.8326717828964044\n"
     ]
    }
   ],
   "source": [
    "print(\"=-=-=-=-=-=-=-=-=-=-=-=-=-=-=-=-=-=-=-=-=-=\")\n",
    "print(\"Return day 1 day feature:\")\n",
    "print(\"AB Test 0:\", np.mean(DataDef[DataDef[\"ab_test_experience_id\"] == 0][\"return_d1\"]))\n",
    "print(\"AB Test 1:\", np.mean(DataDef[DataDef[\"ab_test_experience_id\"] == 1][\"return_d1\"]))\n",
    "print(\"=-=-=-=-=-=-=-=-=-=-=-=-=-=-=-=-=-=-=-=-=-=\")\n",
    "print(\"Return day 3 day feature:\")\n",
    "print(\"AB Test 1:\", np.mean(DataDef[DataDef[\"ab_test_experience_id\"] == 0][\"return_d3\"]))\n",
    "print(\"AB Test 0:\", np.mean(DataDef[DataDef[\"ab_test_experience_id\"] == 1][\"return_d3\"]))\n",
    "print(\"=-=-=-=-=-=-=-=-=-=-=-=-=-=-=-=-=-=-=-=-=-=\")\n",
    "print(\"Return day 7 feature:\")\n",
    "print(\"AB Test 0:\", np.mean(DataDef[DataDef[\"ab_test_experience_id\"] == 0][\"return_d7\"]))\n",
    "print(\"AB Test 1:\", np.mean(DataDef[DataDef[\"ab_test_experience_id\"] == 1][\"return_d7\"]))\n",
    "print(\"=-=-=-=-=-=-=-=-=-=-=-=-=-=-=-=-=-=-=-=-=-=\")\n",
    "print(\"\")\n",
    "print(\"Return percentage of 0s for day 1:\")\n",
    "print(\"AB Test 0:\", DataDef[DataDef[\"ab_test_experience_id\"] == 0][\"return_d1\"].value_counts(normalize=True)[0])\n",
    "print(\"AB Test 1:\", DataDef[DataDef[\"ab_test_experience_id\"] == 1][\"return_d1\"].value_counts(normalize=True)[0])\n",
    "print(\"\")\n",
    "print(\"Return percentage of 0s for day 3:\")\n",
    "print(\"AB Test 0:\", DataDef[DataDef[\"ab_test_experience_id\"] == 0][\"return_d3\"].value_counts(normalize=True)[0])\n",
    "print(\"AB Test 1:\", DataDef[DataDef[\"ab_test_experience_id\"] == 1][\"return_d3\"].value_counts(normalize=True)[0])\n",
    "print(\"\")\n",
    "print(\"Return percentage of 0s for day 7:\")\n",
    "print(\"AB Test 0:\", DataDef[DataDef[\"ab_test_experience_id\"] == 0][\"return_d7\"].value_counts(normalize=True)[0])\n",
    "print(\"AB Test 1:\", DataDef[DataDef[\"ab_test_experience_id\"] == 1][\"return_d7\"].value_counts(normalize=True)[0])"
   ]
  },
  {
   "cell_type": "code",
   "execution_count": 30,
   "id": "4226d423",
   "metadata": {},
   "outputs": [
    {
     "data": {
      "text/plain": [
       "0.3003003003003"
      ]
     },
     "execution_count": 30,
     "metadata": {},
     "output_type": "execute_result"
    }
   ],
   "source": [
    "DataDef[DataDef[\"ab_test_experience_id\"] == 0][\"num_sessions_d1\"][0]"
   ]
  },
  {
   "cell_type": "code",
   "execution_count": 59,
   "id": "5bf75956",
   "metadata": {},
   "outputs": [
    {
     "name": "stdout",
     "output_type": "stream",
     "text": [
      "=-=-=-=-=-=-=-=-=-=-=-=-=-=-=-=-=-=-=-=-=-=\n",
      "Num sessions day 1 feature:\n",
      "AB Test 0: 1.3516566878860172\n",
      "AB Test 1: 1.3483260472542722\n",
      "=-=-=-=-=-=-=-=-=-=-=-=-=-=-=-=-=-=-=-=-=-=\n",
      "Num sessions day 3 feature:\n",
      "AB Test 1: 2.1055572048618663\n",
      "AB Test 0: 2.099703560692249\n",
      "=-=-=-=-=-=-=-=-=-=-=-=-=-=-=-=-=-=-=-=-=-=\n",
      "Num sessions day 7 feature:\n",
      "AB Test 0: 3.070706237614518\n",
      "AB Test 1: 3.045870655076956\n",
      "=-=-=-=-=-=-=-=-=-=-=-=-=-=-=-=-=-=-=-=-=-=\n",
      "\n",
      "Num sessions percentage of 0s for day 1:\n",
      "AB Test 0: 0.38641046373876115\n",
      "AB Test 1: 0.38677510341219806\n",
      "\n",
      "Num sessions percentage of 0s for day 3:\n",
      "AB Test 0: 0.3497959742865816\n",
      "AB Test 1: 0.35002399918025273\n",
      "\n",
      "Num sessions percentage of 0s for day 7:\n",
      "AB Test 0: 0.3285928807248756\n",
      "AB Test 1: 0.3287833763880425\n"
     ]
    }
   ],
   "source": [
    "print(\"=-=-=-=-=-=-=-=-=-=-=-=-=-=-=-=-=-=-=-=-=-=\")\n",
    "print(\"Num sessions day 1 feature:\")\n",
    "print(\"AB Test 0:\", np.mean(DataDef[DataDef[\"ab_test_experience_id\"] == 0][\"num_sessions_d1\"]))\n",
    "print(\"AB Test 1:\", np.mean(DataDef[DataDef[\"ab_test_experience_id\"] == 1][\"num_sessions_d1\"]))\n",
    "print(\"=-=-=-=-=-=-=-=-=-=-=-=-=-=-=-=-=-=-=-=-=-=\")\n",
    "print(\"Num sessions day 3 feature:\")\n",
    "print(\"AB Test 1:\", np.mean(DataDef[DataDef[\"ab_test_experience_id\"] == 0][\"num_sessions_d3\"]))\n",
    "print(\"AB Test 0:\", np.mean(DataDef[DataDef[\"ab_test_experience_id\"] == 1][\"num_sessions_d3\"]))\n",
    "print(\"=-=-=-=-=-=-=-=-=-=-=-=-=-=-=-=-=-=-=-=-=-=\")\n",
    "print(\"Num sessions day 7 feature:\")\n",
    "print(\"AB Test 0:\", np.mean(DataDef[DataDef[\"ab_test_experience_id\"] == 0][\"num_sessions_d7\"]))\n",
    "print(\"AB Test 1:\", np.mean(DataDef[DataDef[\"ab_test_experience_id\"] == 1][\"num_sessions_d7\"]))\n",
    "print(\"=-=-=-=-=-=-=-=-=-=-=-=-=-=-=-=-=-=-=-=-=-=\")\n",
    "print(\"\")\n",
    "print(\"Num sessions percentage of 0s for day 1:\")\n",
    "print(\"AB Test 0:\", DataDef[DataDef[\"ab_test_experience_id\"] == 0][\"num_sessions_d1\"].value_counts(normalize=True)[0.3003003003003])\n",
    "print(\"AB Test 1:\", DataDef[DataDef[\"ab_test_experience_id\"] == 1][\"num_sessions_d1\"].value_counts(normalize=True)[0.3003003003003])\n",
    "print(\"\")\n",
    "print(\"Num sessions percentage of 0s for day 3:\")\n",
    "print(\"AB Test 0:\", DataDef[DataDef[\"ab_test_experience_id\"] == 0][\"num_sessions_d3\"].value_counts(normalize=True)[0.3003003003003])\n",
    "print(\"AB Test 1:\", DataDef[DataDef[\"ab_test_experience_id\"] == 1][\"num_sessions_d3\"].value_counts(normalize=True)[0.3003003003003])\n",
    "print(\"\")\n",
    "print(\"Num sessions percentage of 0s for day 7:\")\n",
    "print(\"AB Test 0:\", DataDef[DataDef[\"ab_test_experience_id\"] == 0][\"num_sessions_d7\"].value_counts(normalize=True)[0.3003003003003])\n",
    "print(\"AB Test 1:\", DataDef[DataDef[\"ab_test_experience_id\"] == 1][\"num_sessions_d7\"].value_counts(normalize=True)[0.3003003003003])"
   ]
  },
  {
   "cell_type": "code",
   "execution_count": 23,
   "id": "e68dbb7b",
   "metadata": {},
   "outputs": [
    {
     "name": "stdout",
     "output_type": "stream",
     "text": [
      "=-=-=-=-=-=-=-=-=-=-=-=-=-=-=-=-=-=-=-=-=-=\n",
      "Time played day 1 feature:\n",
      "AB Test 0: 102.858849404227\n",
      "AB Test 1: 104.96843329133802\n",
      "=-=-=-=-=-=-=-=-=-=-=-=-=-=-=-=-=-=-=-=-=-=\n",
      "Time played day 3 feature:\n",
      "AB Test 1: 145.85781035437583\n",
      "AB Test 0: 152.00826829957455\n",
      "=-=-=-=-=-=-=-=-=-=-=-=-=-=-=-=-=-=-=-=-=-=\n",
      "Time played day 7 feature:\n",
      "AB Test 0: 196.0851455225761\n",
      "AB Test 1: 203.7008269569697\n",
      "=-=-=-=-=-=-=-=-=-=-=-=-=-=-=-=-=-=-=-=-=-=\n",
      "\n",
      "Time played percentage of 0s for day 1:\n",
      "AB Test 0: 0.11352372151497488\n",
      "AB Test 0: 0.11313591086326939\n",
      "\n",
      "Time played percentage of 0s for day 3:\n",
      "AB Test 0: 0.10855135027682489\n",
      "AB Test 0: 0.10813113799258992\n",
      "\n",
      "Time played percentage of 0s for day 7:\n",
      "AB Test 0: 0.10520957295631782\n",
      "AB Test 0: 0.11313591086326939\n"
     ]
    }
   ],
   "source": [
    "print(\"=-=-=-=-=-=-=-=-=-=-=-=-=-=-=-=-=-=-=-=-=-=\")\n",
    "print(\"Time played day 1 feature:\")\n",
    "print(\"AB Test 0:\", np.mean(DataDef[DataDef[\"ab_test_experience_id\"] == 0][\"time_played_d1\"]))\n",
    "print(\"AB Test 1:\", np.mean(DataDef[DataDef[\"ab_test_experience_id\"] == 1][\"time_played_d1\"]))\n",
    "print(\"=-=-=-=-=-=-=-=-=-=-=-=-=-=-=-=-=-=-=-=-=-=\")\n",
    "print(\"Time played day 3 feature:\")\n",
    "print(\"AB Test 1:\", np.mean(DataDef[DataDef[\"ab_test_experience_id\"] == 0][\"time_played_d3\"]))\n",
    "print(\"AB Test 0:\", np.mean(DataDef[DataDef[\"ab_test_experience_id\"] == 1][\"time_played_d3\"]))\n",
    "print(\"=-=-=-=-=-=-=-=-=-=-=-=-=-=-=-=-=-=-=-=-=-=\")\n",
    "print(\"Time played day 7 feature:\")\n",
    "print(\"AB Test 0:\", np.mean(DataDef[DataDef[\"ab_test_experience_id\"] == 0][\"time_played_d7\"]))\n",
    "print(\"AB Test 1:\", np.mean(DataDef[DataDef[\"ab_test_experience_id\"] == 1][\"time_played_d7\"]))\n",
    "print(\"=-=-=-=-=-=-=-=-=-=-=-=-=-=-=-=-=-=-=-=-=-=\")\n",
    "print(\"\")\n",
    "print(\"Time played percentage of 0s for day 1:\")\n",
    "print(\"AB Test 0:\", DataDef[DataDef[\"ab_test_experience_id\"] == 0][\"time_played_d1\"].value_counts(normalize=True)[0])\n",
    "print(\"AB Test 1:\", DataDef[DataDef[\"ab_test_experience_id\"] == 1][\"time_played_d1\"].value_counts(normalize=True)[0])\n",
    "print(\"\")\n",
    "print(\"Time played percentage of 0s for day 3:\")\n",
    "print(\"AB Test 0:\", DataDef[DataDef[\"ab_test_experience_id\"] == 0][\"time_played_d3\"].value_counts(normalize=True)[0])\n",
    "print(\"AB Test 1:\", DataDef[DataDef[\"ab_test_experience_id\"] == 1][\"time_played_d3\"].value_counts(normalize=True)[0])\n",
    "print(\"\")\n",
    "print(\"Time played percentage of 0s for day 7:\")\n",
    "print(\"AB Test 0:\", DataDef[DataDef[\"ab_test_experience_id\"] == 0][\"time_played_d7\"].value_counts(normalize=True)[0])\n",
    "print(\"AB Test 1:\", DataDef[DataDef[\"ab_test_experience_id\"] == 1][\"time_played_d1\"].value_counts(normalize=True)[0])"
   ]
  },
  {
   "cell_type": "code",
   "execution_count": 46,
   "id": "78673007",
   "metadata": {},
   "outputs": [
    {
     "name": "stdout",
     "output_type": "stream",
     "text": [
      "Ad revenue mean day 1:\n",
      "AB Test 0: 0.007929684235468842\n",
      "AB Test 1: 0.05428578918335112\n",
      "\n",
      "Ad revenue mean day 3:\n",
      "AB Test 1: 0.02433530337063356\n",
      "AB Test 0: 0.15220360470976513\n",
      "\n",
      "Ad revenue mean day 7:\n",
      "AB Test 0: 0.05845039761040897\n",
      "AB Test 1: 0.2588955400869937\n",
      "\n",
      "Ad revenue percentage of 0s for day 1:\n",
      "AB Test 0: 0.9374088331448435\n",
      "AB Test 1: 0.8482254089298523\n",
      "\n",
      "Ad revenue percentage of 0s for day 3:\n",
      "AB Test 0: 0.8520162146044266\n",
      "AB Test 1: 0.7365941657723152\n",
      "\n",
      "Ad revenue percentage of 0s for day 7:\n",
      "AB Test 0: 0.7901315489030428\n",
      "AB Test 1: 0.7000453018233984\n"
     ]
    }
   ],
   "source": [
    "print(\"Ad revenue mean day 1:\")\n",
    "print(\"AB Test 0:\", np.mean(DataDef[DataDef[\"ab_test_experience_id\"] == 0][\"ad_revenue_d1\"]))\n",
    "print(\"AB Test 1:\", np.mean(DataDef[DataDef[\"ab_test_experience_id\"] == 1][\"ad_revenue_d1\"]))\n",
    "print(\"\")\n",
    "print(\"Ad revenue mean day 3:\")\n",
    "print(\"AB Test 1:\", np.mean(DataDef[DataDef[\"ab_test_experience_id\"] == 0][\"ad_revenue_d3\"]))\n",
    "print(\"AB Test 0:\", np.mean(DataDef[DataDef[\"ab_test_experience_id\"] == 1][\"ad_revenue_d3\"]))\n",
    "print(\"\")\n",
    "print(\"Ad revenue mean day 7:\")\n",
    "print(\"AB Test 0:\", np.mean(DataDef[DataDef[\"ab_test_experience_id\"] == 0][\"ad_revenue_d7\"]))\n",
    "print(\"AB Test 1:\", np.mean(DataDef[DataDef[\"ab_test_experience_id\"] == 1][\"ad_revenue_d7\"]))\n",
    "print(\"\")\n",
    "print(\"Ad revenue percentage of 0s for day 1:\")\n",
    "print(\"AB Test 0:\", DataDef[DataDef[\"ab_test_experience_id\"] == 0][\"ad_revenue_d1\"].value_counts(normalize=True)[0])\n",
    "print(\"AB Test 1:\", DataDef[DataDef[\"ab_test_experience_id\"] == 1][\"ad_revenue_d1\"].value_counts(normalize=True)[0])\n",
    "print(\"\")\n",
    "print(\"Ad revenue percentage of 0s for day 3:\")\n",
    "print(\"AB Test 0:\", DataDef[DataDef[\"ab_test_experience_id\"] == 0][\"ad_revenue_d3\"].value_counts(normalize=True)[0])\n",
    "print(\"AB Test 1:\", DataDef[DataDef[\"ab_test_experience_id\"] == 1][\"ad_revenue_d3\"].value_counts(normalize=True)[0])\n",
    "print(\"\")\n",
    "print(\"Ad revenue percentage of 0s for day 7:\")\n",
    "print(\"AB Test 0:\", DataDef[DataDef[\"ab_test_experience_id\"] == 0][\"ad_revenue_d7\"].value_counts(normalize=True)[0])\n",
    "print(\"AB Test 1:\", DataDef[DataDef[\"ab_test_experience_id\"] == 1][\"ad_revenue_d7\"].value_counts(normalize=True)[0])"
   ]
  },
  {
   "cell_type": "code",
   "execution_count": 47,
   "id": "ccdfac4b",
   "metadata": {
    "scrolled": true
   },
   "outputs": [
    {
     "name": "stdout",
     "output_type": "stream",
     "text": [
      "IAP revenue mean day 1:\n",
      "AB Test 0: 0.45631655743682836\n",
      "AB Test 1: 0.44433116907871734\n",
      "\n",
      "IAP revenue mean day 3:\n",
      "AB Test 1: 0.7203874355390374\n",
      "AB Test 0: 0.6149436670806494\n",
      "\n",
      "IAP revenue mean day 7:\n",
      "AB Test 0: 0.9936492000038658\n",
      "AB Test 1: 0.8168638725227197\n",
      "\n",
      "IAP revenue percentage of 0s for day 1:\n",
      "AB Test 0: 0.991234550324104\n",
      "AB Test 0: 0.9912632197731673\n",
      "\n",
      "IAP revenue percentage of 0s for day 3:\n",
      "AB Test 0: 0.9887094131205054\n",
      "AB Test 0: 0.9889873424548196\n",
      "\n",
      "IAP revenue percentage of 0s for day 7:\n",
      "AB Test 0: 0.9862514338212579\n",
      "AB Test 0: 0.9867734854899338\n"
     ]
    }
   ],
   "source": [
    "print(\"IAP revenue mean day 1:\")\n",
    "print(\"AB Test 0:\", np.mean(DataDef[DataDef[\"ab_test_experience_id\"] == 0][\"iap_revenue_d1\"]))\n",
    "print(\"AB Test 1:\", np.mean(DataDef[DataDef[\"ab_test_experience_id\"] == 1][\"iap_revenue_d1\"]))\n",
    "print(\"\")\n",
    "print(\"IAP revenue mean day 3:\")\n",
    "print(\"AB Test 1:\", np.mean(DataDef[DataDef[\"ab_test_experience_id\"] == 0][\"iap_revenue_d3\"]))\n",
    "print(\"AB Test 0:\", np.mean(DataDef[DataDef[\"ab_test_experience_id\"] == 1][\"iap_revenue_d3\"]))\n",
    "print(\"\")\n",
    "print(\"IAP revenue mean day 7:\")\n",
    "print(\"AB Test 0:\", np.mean(DataDef[DataDef[\"ab_test_experience_id\"] == 0][\"iap_revenue_d7\"]))\n",
    "print(\"AB Test 1:\", np.mean(DataDef[DataDef[\"ab_test_experience_id\"] == 1][\"iap_revenue_d7\"]))\n",
    "print(\"\")\n",
    "print(\"IAP revenue percentage of 0s for day 1:\")\n",
    "print(\"AB Test 0:\", DataDef[DataDef[\"ab_test_experience_id\"] == 0][\"iap_revenue_d1\"].value_counts(normalize=True)[0])\n",
    "print(\"AB Test 0:\", DataDef[DataDef[\"ab_test_experience_id\"] == 1][\"iap_revenue_d1\"].value_counts(normalize=True)[0])\n",
    "print(\"\")\n",
    "print(\"IAP revenue percentage of 0s for day 3:\")\n",
    "print(\"AB Test 0:\", DataDef[DataDef[\"ab_test_experience_id\"] == 0][\"iap_revenue_d3\"].value_counts(normalize=True)[0])\n",
    "print(\"AB Test 0:\", DataDef[DataDef[\"ab_test_experience_id\"] == 1][\"iap_revenue_d3\"].value_counts(normalize=True)[0])\n",
    "print(\"\")\n",
    "print(\"IAP revenue percentage of 0s for day 7:\")\n",
    "print(\"AB Test 0:\", DataDef[DataDef[\"ab_test_experience_id\"] == 0][\"iap_revenue_d7\"].value_counts(normalize=True)[0])\n",
    "print(\"AB Test 0:\", DataDef[DataDef[\"ab_test_experience_id\"] == 1][\"iap_revenue_d7\"].value_counts(normalize=True)[0])"
   ]
  },
  {
   "cell_type": "markdown",
   "id": "4b61533e",
   "metadata": {},
   "source": [
    "### Exploration of ID == 3582"
   ]
  },
  {
   "cell_type": "code",
   "execution_count": 35,
   "id": "a6d819a0",
   "metadata": {},
   "outputs": [
    {
     "name": "stdout",
     "output_type": "stream",
     "text": [
      "Series([], Name: ab_test_experience_id, dtype: float64)\n"
     ]
    }
   ],
   "source": [
    "print(DataDef2[\"ab_test_experience_id\"].value_counts(normalize=True))"
   ]
  },
  {
   "cell_type": "code",
   "execution_count": 39,
   "id": "0581f78b",
   "metadata": {},
   "outputs": [
    {
     "name": "stdout",
     "output_type": "stream",
     "text": [
      "country_group3    0.761722\n",
      "country_group2    0.121034\n",
      "country_group1    0.117243\n",
      "Name: country_alias, dtype: float64\n",
      "\n",
      "country_group3    0.762387\n",
      "country_group2    0.121300\n",
      "country_group1    0.116312\n",
      "Name: country_alias, dtype: float64\n",
      "\n",
      "country_group3    0.762476\n",
      "country_group2    0.120607\n",
      "country_group1    0.116917\n",
      "Name: country_alias, dtype: float64\n",
      "\n",
      "country_group3    0.762405\n",
      "country_group2    0.120156\n",
      "country_group1    0.117439\n",
      "Name: country_alias, dtype: float64\n"
     ]
    }
   ],
   "source": [
    "print(DataDef2[DataDef2[\"ab_test_experience_id\"] == 0][\"country_alias\"].value_counts(normalize=True))\n",
    "print(\"\")\n",
    "print(DataDef2[DataDef2[\"ab_test_experience_id\"] == 1][\"country_alias\"].value_counts(normalize=True))\n",
    "print(\"\")\n",
    "print(DataDef2[DataDef2[\"ab_test_experience_id\"] == 2][\"country_alias\"].value_counts(normalize=True))\n",
    "print(\"\")\n",
    "print(DataDef2[DataDef2[\"ab_test_experience_id\"] == 3][\"country_alias\"].value_counts(normalize=True))"
   ]
  },
  {
   "cell_type": "code",
   "execution_count": 41,
   "id": "b3158016",
   "metadata": {},
   "outputs": [
    {
     "name": "stdout",
     "output_type": "stream",
     "text": [
      "source1    0.748661\n",
      "source2    0.251339\n",
      "Name: source_alias, dtype: float64\n",
      "\n",
      "source1    0.749675\n",
      "source2    0.250325\n",
      "Name: source_alias, dtype: float64\n",
      "\n",
      "source1    0.749811\n",
      "source2    0.250189\n",
      "Name: source_alias, dtype: float64\n",
      "\n",
      "source1    0.751027\n",
      "source2    0.248973\n",
      "Name: source_alias, dtype: float64\n"
     ]
    }
   ],
   "source": [
    "print(DataDef2[DataDef2[\"ab_test_experience_id\"] == 0][\"source_alias\"].value_counts(normalize=True))\n",
    "print(\"\")\n",
    "print(DataDef2[DataDef2[\"ab_test_experience_id\"] == 1][\"source_alias\"].value_counts(normalize=True))\n",
    "print(\"\")\n",
    "print(DataDef2[DataDef2[\"ab_test_experience_id\"] == 2][\"source_alias\"].value_counts(normalize=True))\n",
    "print(\"\")\n",
    "print(DataDef2[DataDef2[\"ab_test_experience_id\"] == 3][\"source_alias\"].value_counts(normalize=True))\n",
    "\n"
   ]
  },
  {
   "cell_type": "code",
   "execution_count": 42,
   "id": "f90cbccb",
   "metadata": {},
   "outputs": [
    {
     "name": "stdout",
     "output_type": "stream",
     "text": [
      "platform1    0.806536\n",
      "platform2    0.193464\n",
      "Name: platform_alias, dtype: float64\n",
      "\n",
      "platform1    0.808149\n",
      "platform2    0.191851\n",
      "Name: platform_alias, dtype: float64\n",
      "\n",
      "platform1    0.807299\n",
      "platform2    0.192701\n",
      "Name: platform_alias, dtype: float64\n",
      "\n",
      "platform1    0.809968\n",
      "platform2    0.190032\n",
      "Name: platform_alias, dtype: float64\n"
     ]
    }
   ],
   "source": [
    "print(DataDef2[DataDef2[\"ab_test_experience_id\"] == 0][\"platform_alias\"].value_counts(normalize=True))\n",
    "print(\"\")\n",
    "print(DataDef2[DataDef2[\"ab_test_experience_id\"] == 1][\"platform_alias\"].value_counts(normalize=True))\n",
    "print(\"\")\n",
    "print(DataDef2[DataDef2[\"ab_test_experience_id\"] == 2][\"platform_alias\"].value_counts(normalize=True))\n",
    "print(\"\")\n",
    "print(DataDef2[DataDef2[\"ab_test_experience_id\"] == 3][\"platform_alias\"].value_counts(normalize=True))"
   ]
  },
  {
   "cell_type": "code",
   "execution_count": 52,
   "id": "1f30f604",
   "metadata": {
    "scrolled": true
   },
   "outputs": [
    {
     "name": "stdout",
     "output_type": "stream",
     "text": [
      "=-=-=-=-=-=-=-=-=-=-=-=-=-=-=-=-=-=-=-=-=-=\n",
      "Return day 1 day feature:\n",
      "AB Test 0: 0.27614593854199815\n",
      "AB Test 1: 0.27905048774421753\n",
      "AB Test 2: 0.2779559752756708\n",
      "AB Test 3: 0.27518823951237004\n",
      "=-=-=-=-=-=-=-=-=-=-=-=-=-=-=-=-=-=-=-=-=-=\n",
      "Return day 3 day feature:\n",
      "AB Test 0: 0.14130359588804184\n",
      "AB Test 1: 0.14325586536601542\n",
      "AB Test 2: 0.1428945086108396\n",
      "AB Test 3: 0.14295170587748574\n",
      "=-=-=-=-=-=-=-=-=-=-=-=-=-=-=-=-=-=-=-=-=-=\n",
      "Return day 7 feature:\n",
      "AB Test 0: 0.08936452813481467\n",
      "AB Test 1: 0.09035012573576146\n",
      "AB Test 2: 0.08990790325023058\n",
      "AB Test 3: 0.09016189977107869\n",
      "=-=-=-=-=-=-=-=-=-=-=-=-=-=-=-=-=-=-=-=-=-=\n",
      "\n",
      "Return percentage of 0s for day 1:\n",
      "AB Test 0: 0.7238540614580019\n",
      "AB Test 1: 0.7209495122557824\n",
      "AB Test 2: 0.7220440247243293\n",
      "AB Test 3: 0.72481176048763\n",
      "\n",
      "Return percentage of 0s for day 3:\n",
      "AB Test 0: 0.8586964041119581\n",
      "AB Test 1: 0.8567441346339846\n",
      "AB Test 2: 0.8571054913891604\n",
      "AB Test 3: 0.8570482941225143\n",
      "\n",
      "Return percentage of 0s for day 7:\n",
      "AB Test 0: 0.9106354718651853\n",
      "AB Test 1: 0.9096498742642385\n",
      "AB Test 2: 0.9100920967497694\n",
      "AB Test 3: 0.9098381002289213\n"
     ]
    }
   ],
   "source": [
    "print(\"=-=-=-=-=-=-=-=-=-=-=-=-=-=-=-=-=-=-=-=-=-=\")\n",
    "print(\"Return day 1 day feature:\")\n",
    "print(\"AB Test 0:\", np.mean(DataDef2[DataDef2[\"ab_test_experience_id\"] == 0][\"return_d1\"]))\n",
    "print(\"AB Test 1:\", np.mean(DataDef2[DataDef2[\"ab_test_experience_id\"] == 1][\"return_d1\"]))\n",
    "print(\"AB Test 2:\", np.mean(DataDef2[DataDef2[\"ab_test_experience_id\"] == 2][\"return_d1\"]))\n",
    "print(\"AB Test 3:\", np.mean(DataDef2[DataDef2[\"ab_test_experience_id\"] == 3][\"return_d1\"]))\n",
    "print(\"=-=-=-=-=-=-=-=-=-=-=-=-=-=-=-=-=-=-=-=-=-=\")\n",
    "print(\"Return day 3 day feature:\")\n",
    "print(\"AB Test 0:\", np.mean(DataDef2[DataDef2[\"ab_test_experience_id\"] == 0][\"return_d3\"]))\n",
    "print(\"AB Test 1:\", np.mean(DataDef2[DataDef2[\"ab_test_experience_id\"] == 1][\"return_d3\"]))\n",
    "print(\"AB Test 2:\", np.mean(DataDef2[DataDef2[\"ab_test_experience_id\"] == 2][\"return_d3\"]))\n",
    "print(\"AB Test 3:\", np.mean(DataDef2[DataDef2[\"ab_test_experience_id\"] == 3][\"return_d3\"]))\n",
    "print(\"=-=-=-=-=-=-=-=-=-=-=-=-=-=-=-=-=-=-=-=-=-=\")\n",
    "print(\"Return day 7 feature:\")\n",
    "print(\"AB Test 0:\", np.mean(DataDef2[DataDef2[\"ab_test_experience_id\"] == 0][\"return_d7\"]))\n",
    "print(\"AB Test 1:\", np.mean(DataDef2[DataDef2[\"ab_test_experience_id\"] == 1][\"return_d7\"]))\n",
    "print(\"AB Test 2:\", np.mean(DataDef2[DataDef2[\"ab_test_experience_id\"] == 2][\"return_d7\"]))\n",
    "print(\"AB Test 3:\", np.mean(DataDef2[DataDef2[\"ab_test_experience_id\"] == 3][\"return_d7\"]))\n",
    "print(\"=-=-=-=-=-=-=-=-=-=-=-=-=-=-=-=-=-=-=-=-=-=\")\n",
    "print(\"\")\n",
    "print(\"Return percentage of 0s for day 1:\")\n",
    "print(\"AB Test 0:\", DataDef2[DataDef2[\"ab_test_experience_id\"] == 0][\"return_d1\"].value_counts(normalize=True)[0])\n",
    "print(\"AB Test 1:\", DataDef2[DataDef2[\"ab_test_experience_id\"] == 1][\"return_d1\"].value_counts(normalize=True)[0])\n",
    "print(\"AB Test 2:\", DataDef2[DataDef2[\"ab_test_experience_id\"] == 2][\"return_d1\"].value_counts(normalize=True)[0])\n",
    "print(\"AB Test 3:\", DataDef2[DataDef2[\"ab_test_experience_id\"] == 3][\"return_d1\"].value_counts(normalize=True)[0])\n",
    "print(\"\")\n",
    "print(\"Return percentage of 0s for day 3:\")\n",
    "print(\"AB Test 0:\", DataDef2[DataDef2[\"ab_test_experience_id\"] == 0][\"return_d3\"].value_counts(normalize=True)[0])\n",
    "print(\"AB Test 1:\", DataDef2[DataDef2[\"ab_test_experience_id\"] == 1][\"return_d3\"].value_counts(normalize=True)[0])\n",
    "print(\"AB Test 2:\", DataDef2[DataDef2[\"ab_test_experience_id\"] == 2][\"return_d3\"].value_counts(normalize=True)[0])\n",
    "print(\"AB Test 3:\", DataDef2[DataDef2[\"ab_test_experience_id\"] == 3][\"return_d3\"].value_counts(normalize=True)[0])\n",
    "\n",
    "print(\"\")\n",
    "print(\"Return percentage of 0s for day 7:\")\n",
    "print(\"AB Test 0:\", DataDef2[DataDef2[\"ab_test_experience_id\"] == 0][\"return_d7\"].value_counts(normalize=True)[0])\n",
    "print(\"AB Test 1:\", DataDef2[DataDef2[\"ab_test_experience_id\"] == 1][\"return_d7\"].value_counts(normalize=True)[0])\n",
    "print(\"AB Test 2:\", DataDef2[DataDef2[\"ab_test_experience_id\"] == 2][\"return_d7\"].value_counts(normalize=True)[0])\n",
    "print(\"AB Test 3:\", DataDef2[DataDef2[\"ab_test_experience_id\"] == 3][\"return_d7\"].value_counts(normalize=True)[0])"
   ]
  },
  {
   "cell_type": "code",
   "execution_count": 55,
   "id": "1a9601a8",
   "metadata": {},
   "outputs": [
    {
     "name": "stdout",
     "output_type": "stream",
     "text": [
      "=-=-=-=-=-=-=-=-=-=-=-=-=-=-=-=-=-=-=-=-=-=\n",
      "Num sessions day 1 feature:\n",
      "AB Test 0: 0.6869966110113819\n",
      "AB Test 1: 0.6897313761659432\n",
      "AB Test 2: 0.6925290952220144\n",
      "AB Test 3: 0.6881015665528359\n",
      "=-=-=-=-=-=-=-=-=-=-=-=-=-=-=-=-=-=-=-=-=-=\n",
      "Num sessions day 3 feature:\n",
      "AB Test 0: 0.9031071277709877\n",
      "AB Test 1: 0.909855056372154\n",
      "AB Test 2: 0.911814748353723\n",
      "AB Test 3: 0.9036921191819502\n",
      "=-=-=-=-=-=-=-=-=-=-=-=-=-=-=-=-=-=-=-=-=-=\n",
      "Num sessions day 7 feature:\n",
      "AB Test 0: 1.1807925639436772\n",
      "AB Test 1: 1.1953714567914597\n",
      "AB Test 2: 1.1977492835411945\n",
      "AB Test 3: 1.18248264537272\n",
      "=-=-=-=-=-=-=-=-=-=-=-=-=-=-=-=-=-=-=-=-=-=\n",
      "Num sessions percentage of 0s for day 1:\n",
      "AB Test 0: 0.531054138937698\n",
      "AB Test 1: 0.5304391079669495\n",
      "AB Test 2: 0.5297008576423783\n",
      "AB Test 3: 0.5308216344430041\n",
      "\n",
      "Num sessions percentage of 0s for day 3:\n",
      "AB Test 0: 0.47597437635762413\n",
      "AB Test 1: 0.4753502639069279\n",
      "AB Test 2: 0.47522748860836167\n",
      "AB Test 3: 0.47476349394599665\n",
      "\n",
      "Num sessions percentage of 0s for day 7:\n",
      "AB Test 0: 0.4370961716728696\n",
      "AB Test 1: 0.436593251720231\n",
      "AB Test 2: 0.4369020250271885\n",
      "AB Test 3: 0.43521251068759137\n"
     ]
    }
   ],
   "source": [
    "print(\"=-=-=-=-=-=-=-=-=-=-=-=-=-=-=-=-=-=-=-=-=-=\")\n",
    "print(\"Num sessions day 1 feature:\")\n",
    "print(\"AB Test 0:\", np.mean(DataDef2[DataDef2[\"ab_test_experience_id\"] == 0][\"num_sessions_d1\"]))\n",
    "print(\"AB Test 1:\", np.mean(DataDef2[DataDef2[\"ab_test_experience_id\"] == 1][\"num_sessions_d1\"]))\n",
    "print(\"AB Test 2:\", np.mean(DataDef2[DataDef2[\"ab_test_experience_id\"] == 2][\"num_sessions_d1\"]))\n",
    "print(\"AB Test 3:\", np.mean(DataDef2[DataDef2[\"ab_test_experience_id\"] == 3][\"num_sessions_d1\"]))\n",
    "print(\"=-=-=-=-=-=-=-=-=-=-=-=-=-=-=-=-=-=-=-=-=-=\")\n",
    "print(\"Num sessions day 3 feature:\")\n",
    "print(\"AB Test 0:\", np.mean(DataDef2[DataDef2[\"ab_test_experience_id\"] == 0][\"num_sessions_d3\"]))\n",
    "print(\"AB Test 1:\", np.mean(DataDef2[DataDef2[\"ab_test_experience_id\"] == 1][\"num_sessions_d3\"]))\n",
    "print(\"AB Test 2:\", np.mean(DataDef2[DataDef2[\"ab_test_experience_id\"] == 2][\"num_sessions_d3\"]))\n",
    "print(\"AB Test 3:\", np.mean(DataDef2[DataDef2[\"ab_test_experience_id\"] == 3][\"num_sessions_d3\"]))\n",
    "print(\"=-=-=-=-=-=-=-=-=-=-=-=-=-=-=-=-=-=-=-=-=-=\")\n",
    "print(\"Num sessions day 7 feature:\")\n",
    "print(\"AB Test 0:\", np.mean(DataDef2[DataDef2[\"ab_test_experience_id\"] == 0][\"num_sessions_d7\"]))\n",
    "print(\"AB Test 1:\", np.mean(DataDef2[DataDef2[\"ab_test_experience_id\"] == 1][\"num_sessions_d7\"]))\n",
    "print(\"AB Test 2:\", np.mean(DataDef2[DataDef2[\"ab_test_experience_id\"] == 2][\"num_sessions_d7\"]))\n",
    "print(\"AB Test 3:\", np.mean(DataDef2[DataDef2[\"ab_test_experience_id\"] == 3][\"num_sessions_d7\"]))\n",
    "print(\"=-=-=-=-=-=-=-=-=-=-=-=-=-=-=-=-=-=-=-=-=-=\")\n",
    "print(\"Num sessions percentage of 0s for day 1:\")\n",
    "print(\"AB Test 0:\", DataDef2[DataDef2[\"ab_test_experience_id\"] == 0][\"num_sessions_d1\"].value_counts(normalize=True)[0.3003003003003])\n",
    "print(\"AB Test 1:\", DataDef2[DataDef2[\"ab_test_experience_id\"] == 1][\"num_sessions_d1\"].value_counts(normalize=True)[0.3003003003003])\n",
    "print(\"AB Test 2:\", DataDef2[DataDef2[\"ab_test_experience_id\"] == 2][\"num_sessions_d1\"].value_counts(normalize=True)[0.3003003003003])\n",
    "print(\"AB Test 3:\", DataDef2[DataDef2[\"ab_test_experience_id\"] == 3][\"num_sessions_d1\"].value_counts(normalize=True)[0.3003003003003])\n",
    "print(\"\")\n",
    "print(\"Num sessions percentage of 0s for day 3:\")\n",
    "print(\"AB Test 0:\", DataDef2[DataDef2[\"ab_test_experience_id\"] == 0][\"num_sessions_d3\"].value_counts(normalize=True)[0.3003003003003])\n",
    "print(\"AB Test 1:\", DataDef2[DataDef2[\"ab_test_experience_id\"] == 1][\"num_sessions_d3\"].value_counts(normalize=True)[0.3003003003003])\n",
    "print(\"AB Test 2:\", DataDef2[DataDef2[\"ab_test_experience_id\"] == 2][\"num_sessions_d3\"].value_counts(normalize=True)[0.3003003003003])\n",
    "print(\"AB Test 3:\", DataDef2[DataDef2[\"ab_test_experience_id\"] == 3][\"num_sessions_d3\"].value_counts(normalize=True)[0.3003003003003])\n",
    "print(\"\")\n",
    "print(\"Num sessions percentage of 0s for day 7:\")\n",
    "print(\"AB Test 0:\", DataDef2[DataDef2[\"ab_test_experience_id\"] == 0][\"num_sessions_d7\"].value_counts(normalize=True)[0.3003003003003])\n",
    "print(\"AB Test 1:\", DataDef2[DataDef2[\"ab_test_experience_id\"] == 1][\"num_sessions_d7\"].value_counts(normalize=True)[0.3003003003003])\n",
    "print(\"AB Test 2:\", DataDef2[DataDef2[\"ab_test_experience_id\"] == 2][\"num_sessions_d7\"].value_counts(normalize=True)[0.3003003003003])\n",
    "print(\"AB Test 3:\", DataDef2[DataDef2[\"ab_test_experience_id\"] == 3][\"num_sessions_d7\"].value_counts(normalize=True)[0.3003003003003])"
   ]
  },
  {
   "cell_type": "code",
   "execution_count": 61,
   "id": "fcca17c6",
   "metadata": {},
   "outputs": [
    {
     "name": "stdout",
     "output_type": "stream",
     "text": [
      "=-=-=-=-=-=-=-=-=-=-=-=-=-=-=-=-=-=-=-=-=-=\n",
      "Time played day 1 feature:\n",
      "AB Test 0: 54.423063956436465\n",
      "AB Test 1: 54.15730218115301\n",
      "AB Test 2: 54.96207830334042\n",
      "AB Test 3: 53.919859674965245\n",
      "=-=-=-=-=-=-=-=-=-=-=-=-=-=-=-=-=-=-=-=-=-=\n",
      "Time played day 3 feature:\n",
      "AB Test 0: 73.85882174697132\n",
      "AB Test 1: 74.0453021177423\n",
      "AB Test 2: 74.95985016516283\n",
      "AB Test 3: 73.45226220776824\n",
      "=-=-=-=-=-=-=-=-=-=-=-=-=-=-=-=-=-=-=-=-=-=\n",
      "Time played day 7 feature:\n",
      "AB Test 0: 99.29562376661711\n",
      "AB Test 1: 100.13640557688804\n",
      "AB Test 2: 101.51838988637185\n",
      "AB Test 3: 98.53272609716733\n",
      "=-=-=-=-=-=-=-=-=-=-=-=-=-=-=-=-=-=-=-=-=-=\n",
      "Time played percentage of 0s for day 1:\n",
      "AB Test 0: 0.07245735157795703\n",
      "AB Test 1: 0.07291292453090889\n",
      "AB Test 2: 0.0711168623779959\n",
      "AB Test 3: 0.07252392641420967\n",
      "\n",
      "Time played percentage of 0s for day 3:\n",
      "AB Test 0: 0.06844501016921012\n",
      "AB Test 1: 0.06865725260452649\n",
      "AB Test 2: 0.06715215924890902\n",
      "AB Test 3: 0.06797308106020906\n",
      "\n",
      "Time played percentage of 0s for day 7:\n",
      "AB Test 0: 0.06526280836227293\n",
      "AB Test 1: 0.06594909774228314\n",
      "AB Test 2: 0.0643851268567338\n",
      "AB Test 3: 0.06498055547894199\n",
      "=-=-=-=-=-=-=-=-=-=-=-=-=-=-=-=-=-=-=-=-=-=\n"
     ]
    }
   ],
   "source": [
    "print(\"=-=-=-=-=-=-=-=-=-=-=-=-=-=-=-=-=-=-=-=-=-=\")\n",
    "print(\"Time played day 1 feature:\")\n",
    "print(\"AB Test 0:\", np.mean(DataDef2[DataDef2[\"ab_test_experience_id\"] == 0][\"time_played_d1\"]))\n",
    "print(\"AB Test 1:\", np.mean(DataDef2[DataDef2[\"ab_test_experience_id\"] == 1][\"time_played_d1\"]))\n",
    "print(\"AB Test 2:\", np.mean(DataDef2[DataDef2[\"ab_test_experience_id\"] == 2][\"time_played_d1\"]))\n",
    "print(\"AB Test 3:\", np.mean(DataDef2[DataDef2[\"ab_test_experience_id\"] == 3][\"time_played_d1\"]))\n",
    "print(\"=-=-=-=-=-=-=-=-=-=-=-=-=-=-=-=-=-=-=-=-=-=\")\n",
    "print(\"Time played day 3 feature:\")\n",
    "print(\"AB Test 0:\", np.mean(DataDef2[DataDef2[\"ab_test_experience_id\"] == 0][\"time_played_d3\"]))\n",
    "print(\"AB Test 1:\", np.mean(DataDef2[DataDef2[\"ab_test_experience_id\"] == 1][\"time_played_d3\"]))\n",
    "print(\"AB Test 2:\", np.mean(DataDef2[DataDef2[\"ab_test_experience_id\"] == 2][\"time_played_d3\"]))\n",
    "print(\"AB Test 3:\", np.mean(DataDef2[DataDef2[\"ab_test_experience_id\"] == 3][\"time_played_d3\"]))\n",
    "print(\"=-=-=-=-=-=-=-=-=-=-=-=-=-=-=-=-=-=-=-=-=-=\")\n",
    "print(\"Time played day 7 feature:\")\n",
    "print(\"AB Test 0:\", np.mean(DataDef2[DataDef2[\"ab_test_experience_id\"] == 0][\"time_played_d7\"]))\n",
    "print(\"AB Test 1:\", np.mean(DataDef2[DataDef2[\"ab_test_experience_id\"] == 1][\"time_played_d7\"]))\n",
    "print(\"AB Test 2:\", np.mean(DataDef2[DataDef2[\"ab_test_experience_id\"] == 2][\"time_played_d7\"]))\n",
    "print(\"AB Test 3:\", np.mean(DataDef2[DataDef2[\"ab_test_experience_id\"] == 3][\"time_played_d7\"]))\n",
    "print(\"=-=-=-=-=-=-=-=-=-=-=-=-=-=-=-=-=-=-=-=-=-=\")\n",
    "print(\"Time played percentage of 0s for day 1:\")\n",
    "print(\"AB Test 0:\", DataDef2[DataDef2[\"ab_test_experience_id\"] == 0][\"time_played_d1\"].value_counts(normalize=True)[0])\n",
    "print(\"AB Test 1:\", DataDef2[DataDef2[\"ab_test_experience_id\"] == 1][\"time_played_d1\"].value_counts(normalize=True)[0])\n",
    "print(\"AB Test 2:\", DataDef2[DataDef2[\"ab_test_experience_id\"] == 2][\"time_played_d1\"].value_counts(normalize=True)[0])\n",
    "print(\"AB Test 3:\", DataDef2[DataDef2[\"ab_test_experience_id\"] == 3][\"time_played_d1\"].value_counts(normalize=True)[0])\n",
    "print(\"\")\n",
    "print(\"Time played percentage of 0s for day 3:\")\n",
    "print(\"AB Test 0:\", DataDef2[DataDef2[\"ab_test_experience_id\"] == 0][\"time_played_d3\"].value_counts(normalize=True)[0])\n",
    "print(\"AB Test 1:\", DataDef2[DataDef2[\"ab_test_experience_id\"] == 1][\"time_played_d3\"].value_counts(normalize=True)[0])\n",
    "print(\"AB Test 2:\", DataDef2[DataDef2[\"ab_test_experience_id\"] == 2][\"time_played_d3\"].value_counts(normalize=True)[0])\n",
    "print(\"AB Test 3:\", DataDef2[DataDef2[\"ab_test_experience_id\"] == 3][\"time_played_d3\"].value_counts(normalize=True)[0])\n",
    "print(\"\")\n",
    "print(\"Time played percentage of 0s for day 7:\")\n",
    "print(\"AB Test 0:\", DataDef2[DataDef2[\"ab_test_experience_id\"] == 0][\"time_played_d7\"].value_counts(normalize=True)[0])\n",
    "print(\"AB Test 1:\", DataDef2[DataDef2[\"ab_test_experience_id\"] == 1][\"time_played_d7\"].value_counts(normalize=True)[0])\n",
    "print(\"AB Test 2:\", DataDef2[DataDef2[\"ab_test_experience_id\"] == 2][\"time_played_d7\"].value_counts(normalize=True)[0])\n",
    "print(\"AB Test 3:\", DataDef2[DataDef2[\"ab_test_experience_id\"] == 3][\"time_played_d7\"].value_counts(normalize=True)[0])\n",
    "print(\"=-=-=-=-=-=-=-=-=-=-=-=-=-=-=-=-=-=-=-=-=-=\")"
   ]
  },
  {
   "cell_type": "code",
   "execution_count": 57,
   "id": "d034d252",
   "metadata": {},
   "outputs": [
    {
     "name": "stdout",
     "output_type": "stream",
     "text": [
      "=-=-=-=-=-=-=-=-=-=-=-=-=-=-=-=-=-=-=-=-=-=\n",
      "Ad Revenue day 1 feature:\n",
      "AB Test 0: 0.3426467424820659\n",
      "AB Test 1: 0.35423781783572167\n",
      "AB Test 2: 0.35266047229851605\n",
      "AB Test 3: 0.3542675137503725\n",
      "=-=-=-=-=-=-=-=-=-=-=-=-=-=-=-=-=-=-=-=-=-=\n",
      "Ad Revenue day 3 feature:\n",
      "AB Test 0: 0.4279977891421917\n",
      "AB Test 1: 0.4454242523930018\n",
      "AB Test 2: 0.44061688212464\n",
      "AB Test 3: 0.4440488611769026\n",
      "=-=-=-=-=-=-=-=-=-=-=-=-=-=-=-=-=-=-=-=-=-=\n",
      "Ad Revenue day 7 feature:\n",
      "AB Test 0: 0.5270240447455635\n",
      "AB Test 1: 0.5513151392778293\n",
      "AB Test 2: 0.5449830267275836\n",
      "AB Test 3: 0.5492366216172623\n",
      "=-=-=-=-=-=-=-=-=-=-=-=-=-=-=-=-=-=-=-=-=-=\n",
      "Ad Revenue percentage of 0s for day 1:\n",
      "AB Test 0: 0.3427784772472571\n",
      "AB Test 1: 0.3444054494708044\n",
      "AB Test 2: 0.3442133230544734\n",
      "AB Test 3: 0.34269244559671236\n",
      "\n",
      "Ad Revenue percentage of 0s for day 3:\n",
      "AB Test 0: 0.3275869225341395\n",
      "AB Test 1: 0.32789399508110645\n",
      "AB Test 2: 0.32850594017152845\n",
      "AB Test 3: 0.3272471522740436\n",
      "\n",
      "Time played percentage of 0s for day 7:\n",
      "AB Test 0: 0.316338530929618\n",
      "AB Test 1: 0.3165639594329455\n",
      "AB Test 2: 0.3177682025302515\n",
      "AB Test 3: 0.31538737347270873\n",
      "=-=-=-=-=-=-=-=-=-=-=-=-=-=-=-=-=-=-=-=-=-=\n"
     ]
    }
   ],
   "source": [
    "print(\"=-=-=-=-=-=-=-=-=-=-=-=-=-=-=-=-=-=-=-=-=-=\")\n",
    "print(\"Ad Revenue day 1 feature:\")\n",
    "print(\"AB Test 0:\", np.mean(DataDef2[DataDef2[\"ab_test_experience_id\"] == 0][\"ad_revenue_d1\"]))\n",
    "print(\"AB Test 1:\", np.mean(DataDef2[DataDef2[\"ab_test_experience_id\"] == 1][\"ad_revenue_d1\"]))\n",
    "print(\"AB Test 2:\", np.mean(DataDef2[DataDef2[\"ab_test_experience_id\"] == 2][\"ad_revenue_d1\"]))\n",
    "print(\"AB Test 3:\", np.mean(DataDef2[DataDef2[\"ab_test_experience_id\"] == 3][\"ad_revenue_d1\"]))\n",
    "print(\"=-=-=-=-=-=-=-=-=-=-=-=-=-=-=-=-=-=-=-=-=-=\")\n",
    "print(\"Ad Revenue day 3 feature:\")\n",
    "print(\"AB Test 0:\", np.mean(DataDef2[DataDef2[\"ab_test_experience_id\"] == 0][\"ad_revenue_d3\"]))\n",
    "print(\"AB Test 1:\", np.mean(DataDef2[DataDef2[\"ab_test_experience_id\"] == 1][\"ad_revenue_d3\"]))\n",
    "print(\"AB Test 2:\", np.mean(DataDef2[DataDef2[\"ab_test_experience_id\"] == 2][\"ad_revenue_d3\"]))\n",
    "print(\"AB Test 3:\", np.mean(DataDef2[DataDef2[\"ab_test_experience_id\"] == 3][\"ad_revenue_d3\"]))\n",
    "print(\"=-=-=-=-=-=-=-=-=-=-=-=-=-=-=-=-=-=-=-=-=-=\")\n",
    "print(\"Ad Revenue day 7 feature:\")\n",
    "print(\"AB Test 0:\", np.mean(DataDef2[DataDef2[\"ab_test_experience_id\"] == 0][\"ad_revenue_d7\"]))\n",
    "print(\"AB Test 1:\", np.mean(DataDef2[DataDef2[\"ab_test_experience_id\"] == 1][\"ad_revenue_d7\"]))\n",
    "print(\"AB Test 2:\", np.mean(DataDef2[DataDef2[\"ab_test_experience_id\"] == 2][\"ad_revenue_d7\"]))\n",
    "print(\"AB Test 3:\", np.mean(DataDef2[DataDef2[\"ab_test_experience_id\"] == 3][\"ad_revenue_d7\"]))\n",
    "print(\"=-=-=-=-=-=-=-=-=-=-=-=-=-=-=-=-=-=-=-=-=-=\")\n",
    "print(\"Ad Revenue percentage of 0s for day 1:\")\n",
    "print(\"AB Test 0:\", DataDef2[DataDef2[\"ab_test_experience_id\"] == 0][\"ad_revenue_d1\"].value_counts(normalize=True)[0])\n",
    "print(\"AB Test 1:\", DataDef2[DataDef2[\"ab_test_experience_id\"] == 1][\"ad_revenue_d1\"].value_counts(normalize=True)[0])\n",
    "print(\"AB Test 2:\", DataDef2[DataDef2[\"ab_test_experience_id\"] == 2][\"ad_revenue_d1\"].value_counts(normalize=True)[0])\n",
    "print(\"AB Test 3:\", DataDef2[DataDef2[\"ab_test_experience_id\"] == 3][\"ad_revenue_d1\"].value_counts(normalize=True)[0])\n",
    "print(\"\")\n",
    "print(\"Ad Revenue percentage of 0s for day 3:\")\n",
    "print(\"AB Test 0:\", DataDef2[DataDef2[\"ab_test_experience_id\"] == 0][\"ad_revenue_d3\"].value_counts(normalize=True)[0])\n",
    "print(\"AB Test 1:\", DataDef2[DataDef2[\"ab_test_experience_id\"] == 1][\"ad_revenue_d3\"].value_counts(normalize=True)[0])\n",
    "print(\"AB Test 2:\", DataDef2[DataDef2[\"ab_test_experience_id\"] == 2][\"ad_revenue_d3\"].value_counts(normalize=True)[0])\n",
    "print(\"AB Test 3:\", DataDef2[DataDef2[\"ab_test_experience_id\"] == 3][\"ad_revenue_d3\"].value_counts(normalize=True)[0])\n",
    "print(\"\")\n",
    "print(\"Ad Revenue percentage of 0s for day 7:\")\n",
    "print(\"AB Test 0:\", DataDef2[DataDef2[\"ab_test_experience_id\"] == 0][\"ad_revenue_d7\"].value_counts(normalize=True)[0])\n",
    "print(\"AB Test 1:\", DataDef2[DataDef2[\"ab_test_experience_id\"] == 1][\"ad_revenue_d7\"].value_counts(normalize=True)[0])\n",
    "print(\"AB Test 2:\", DataDef2[DataDef2[\"ab_test_experience_id\"] == 2][\"ad_revenue_d7\"].value_counts(normalize=True)[0])\n",
    "print(\"AB Test 3:\", DataDef2[DataDef2[\"ab_test_experience_id\"] == 3][\"ad_revenue_d7\"].value_counts(normalize=True)[0])\n",
    "print(\"=-=-=-=-=-=-=-=-=-=-=-=-=-=-=-=-=-=-=-=-=-=\")"
   ]
  },
  {
   "cell_type": "code",
   "execution_count": 58,
   "id": "c1e44066",
   "metadata": {},
   "outputs": [
    {
     "name": "stdout",
     "output_type": "stream",
     "text": [
      "=-=-=-=-=-=-=-=-=-=-=-=-=-=-=-=-=-=-=-=-=-=\n",
      "IAP Revenue day 1 feature:\n",
      "AB Test 0: 0.02062736797476583\n",
      "AB Test 1: 0.018217318406966315\n",
      "AB Test 2: 0.01849916950591708\n",
      "AB Test 3: 0.01789251581286059\n",
      "=-=-=-=-=-=-=-=-=-=-=-=-=-=-=-=-=-=-=-=-=-=\n",
      "IAP Revenue day 3 feature:\n",
      "AB Test 0: 0.02922030392833563\n",
      "AB Test 1: 0.02686283086124122\n",
      "AB Test 2: 0.0273683353362387\n",
      "AB Test 3: 0.024497776473551867\n",
      "=-=-=-=-=-=-=-=-=-=-=-=-=-=-=-=-=-=-=-=-=-=\n",
      "IAP Revenue day 7 feature:\n",
      "AB Test 0: 0.040874819982841364\n",
      "AB Test 1: 0.04187258458988745\n",
      "AB Test 2: 0.04401723487128112\n",
      "AB Test 3: 0.03816444272786312\n",
      "=-=-=-=-=-=-=-=-=-=-=-=-=-=-=-=-=-=-=-=-=-=\n",
      "IAP Revenue percentage of 0s for day 1:\n",
      "AB Test 0: 0.9987686262573156\n",
      "AB Test 1: 0.998604471218946\n",
      "AB Test 2: 0.9984994699962831\n",
      "AB Test 3: 0.9985382133105332\n",
      "\n",
      "IAP Revenue percentage of 0s for day 3:\n",
      "AB Test 0: 0.9984365704165917\n",
      "AB Test 1: 0.9982037748362672\n",
      "AB Test 2: 0.9981415454082405\n",
      "AB Test 3: 0.9983175662630664\n",
      "\n",
      "IAP Revenue percentage of 0s for day 7:\n",
      "AB Test 0: 0.9981321858959281\n",
      "AB Test 1: 0.9978168955702325\n",
      "AB Test 2: 0.9975495932049394\n",
      "AB Test 3: 0.9979590148109331\n",
      "=-=-=-=-=-=-=-=-=-=-=-=-=-=-=-=-=-=-=-=-=-=\n"
     ]
    }
   ],
   "source": [
    "print(\"=-=-=-=-=-=-=-=-=-=-=-=-=-=-=-=-=-=-=-=-=-=\")\n",
    "print(\"IAP Revenue day 1 feature:\")\n",
    "print(\"AB Test 0:\", np.mean(DataDef2[DataDef2[\"ab_test_experience_id\"] == 0][\"iap_revenue_d1\"]))\n",
    "print(\"AB Test 1:\", np.mean(DataDef2[DataDef2[\"ab_test_experience_id\"] == 1][\"iap_revenue_d1\"]))\n",
    "print(\"AB Test 2:\", np.mean(DataDef2[DataDef2[\"ab_test_experience_id\"] == 2][\"iap_revenue_d1\"]))\n",
    "print(\"AB Test 3:\", np.mean(DataDef2[DataDef2[\"ab_test_experience_id\"] == 3][\"iap_revenue_d1\"]))\n",
    "print(\"=-=-=-=-=-=-=-=-=-=-=-=-=-=-=-=-=-=-=-=-=-=\")\n",
    "print(\"IAP Revenue day 3 feature:\")\n",
    "print(\"AB Test 0:\", np.mean(DataDef2[DataDef2[\"ab_test_experience_id\"] == 0][\"iap_revenue_d3\"]))\n",
    "print(\"AB Test 1:\", np.mean(DataDef2[DataDef2[\"ab_test_experience_id\"] == 1][\"iap_revenue_d3\"]))\n",
    "print(\"AB Test 2:\", np.mean(DataDef2[DataDef2[\"ab_test_experience_id\"] == 2][\"iap_revenue_d3\"]))\n",
    "print(\"AB Test 3:\", np.mean(DataDef2[DataDef2[\"ab_test_experience_id\"] == 3][\"iap_revenue_d3\"]))\n",
    "print(\"=-=-=-=-=-=-=-=-=-=-=-=-=-=-=-=-=-=-=-=-=-=\")\n",
    "print(\"IAP Revenue day 7 feature:\")\n",
    "print(\"AB Test 0:\", np.mean(DataDef2[DataDef2[\"ab_test_experience_id\"] == 0][\"iap_revenue_d7\"]))\n",
    "print(\"AB Test 1:\", np.mean(DataDef2[DataDef2[\"ab_test_experience_id\"] == 1][\"iap_revenue_d7\"]))\n",
    "print(\"AB Test 2:\", np.mean(DataDef2[DataDef2[\"ab_test_experience_id\"] == 2][\"iap_revenue_d7\"]))\n",
    "print(\"AB Test 3:\", np.mean(DataDef2[DataDef2[\"ab_test_experience_id\"] == 3][\"iap_revenue_d7\"]))\n",
    "print(\"=-=-=-=-=-=-=-=-=-=-=-=-=-=-=-=-=-=-=-=-=-=\")\n",
    "print(\"IAP Revenue percentage of 0s for day 1:\")\n",
    "print(\"AB Test 0:\", DataDef2[DataDef2[\"ab_test_experience_id\"] == 0][\"iap_revenue_d1\"].value_counts(normalize=True)[0])\n",
    "print(\"AB Test 1:\", DataDef2[DataDef2[\"ab_test_experience_id\"] == 1][\"iap_revenue_d1\"].value_counts(normalize=True)[0])\n",
    "print(\"AB Test 2:\", DataDef2[DataDef2[\"ab_test_experience_id\"] == 2][\"iap_revenue_d1\"].value_counts(normalize=True)[0])\n",
    "print(\"AB Test 3:\", DataDef2[DataDef2[\"ab_test_experience_id\"] == 3][\"iap_revenue_d1\"].value_counts(normalize=True)[0])\n",
    "print(\"\")\n",
    "print(\"IAP Revenue percentage of 0s for day 3:\")\n",
    "print(\"AB Test 0:\", DataDef2[DataDef2[\"ab_test_experience_id\"] == 0][\"iap_revenue_d3\"].value_counts(normalize=True)[0])\n",
    "print(\"AB Test 1:\", DataDef2[DataDef2[\"ab_test_experience_id\"] == 1][\"iap_revenue_d3\"].value_counts(normalize=True)[0])\n",
    "print(\"AB Test 2:\", DataDef2[DataDef2[\"ab_test_experience_id\"] == 2][\"iap_revenue_d3\"].value_counts(normalize=True)[0])\n",
    "print(\"AB Test 3:\", DataDef2[DataDef2[\"ab_test_experience_id\"] == 3][\"iap_revenue_d3\"].value_counts(normalize=True)[0])\n",
    "print(\"\")\n",
    "print(\"IAP Revenue percentage of 0s for day 7:\")\n",
    "print(\"AB Test 0:\", DataDef2[DataDef2[\"ab_test_experience_id\"] == 0][\"iap_revenue_d7\"].value_counts(normalize=True)[0])\n",
    "print(\"AB Test 1:\", DataDef2[DataDef2[\"ab_test_experience_id\"] == 1][\"iap_revenue_d7\"].value_counts(normalize=True)[0])\n",
    "print(\"AB Test 2:\", DataDef2[DataDef2[\"ab_test_experience_id\"] == 2][\"iap_revenue_d7\"].value_counts(normalize=True)[0])\n",
    "print(\"AB Test 3:\", DataDef2[DataDef2[\"ab_test_experience_id\"] == 3][\"iap_revenue_d7\"].value_counts(normalize=True)[0])\n",
    "print(\"=-=-=-=-=-=-=-=-=-=-=-=-=-=-=-=-=-=-=-=-=-=\")"
   ]
  },
  {
   "cell_type": "markdown",
   "id": "8387e42b",
   "metadata": {},
   "source": [
    "# Contextual Bandits first approach"
   ]
  },
  {
   "cell_type": "code",
   "execution_count": 1,
   "id": "7347910e",
   "metadata": {},
   "outputs": [],
   "source": [
    "import numpy as np\n",
    "import pandas as pd\n",
    "import matplotlib.pyplot as plt\n",
    "from tqdm import tqdm\n",
    "import random"
   ]
  },
  {
   "cell_type": "markdown",
   "id": "12948a1c",
   "metadata": {},
   "source": [
    "#### Create extra features"
   ]
  },
  {
   "cell_type": "code",
   "execution_count": 9,
   "id": "30e043d3",
   "metadata": {},
   "outputs": [],
   "source": [
    "data[\"NGU\"] = (data.ab_test_datetime_start == data.register_date_alias) * 1\n",
    "dataExt[\"NGU\"] = (dataExt.ab_test_datetime_start == dataExt.register_date_alias) * 1\n",
    "dataExt2[\"NGU\"] = (dataExt2.ab_test_datetime_start == dataExt2.register_date_alias) * 1\n",
    "dataExt3[\"NGU\"] = (dataExt3.ab_test_datetime_start == dataExt3.register_date_alias) * 1"
   ]
  },
  {
   "cell_type": "markdown",
   "id": "f816842a",
   "metadata": {},
   "source": [
    "#### Extract features to work with "
   ]
  },
  {
   "cell_type": "code",
   "execution_count": 10,
   "id": "2f13cb75",
   "metadata": {},
   "outputs": [],
   "source": [
    "Features = [\"ab_test_id\", \"ab_test_experience_id\", \"country_alias\", \"platform_alias\", \"source_alias\", \"NGU\",\n",
    "            \"return_d1\", \"converted_d1\", \"ad_revenue_d1\", \"time_played_d1\", \"num_sessions_d1\", \"num_impressions_d1\", \"num_transactions_d1\",\n",
    "            \"return_d3\", \"converted_d3\", \"ad_revenue_d3\", \"time_played_d3\", \"num_sessions_d3\", \"num_impressions_d3\", \"num_transactions_d3\",\n",
    "            \"return_d7\", \"converted_d7\", \"ad_revenue_d7\", \"time_played_d7\", \"num_sessions_d7\", \"num_impressions_7\", \"num_transactions_d7\"]\n",
    "\n",
    "data0 = data[Features].copy()\n",
    "data_big = dataExt[Features].copy()\n",
    "data_big2 = dataExt2[Features].copy()\n",
    "data_big3 = dataExt3[Features].copy()"
   ]
  },
  {
   "cell_type": "markdown",
   "id": "c48c7666",
   "metadata": {},
   "source": [
    "# First Lin-UCB implementation with small dataset"
   ]
  },
  {
   "cell_type": "markdown",
   "id": "22522cde",
   "metadata": {},
   "source": [
    "### UCB without features impact"
   ]
  },
  {
   "cell_type": "code",
   "execution_count": 398,
   "id": "500482a8",
   "metadata": {
    "scrolled": true
   },
   "outputs": [
    {
     "name": "stdout",
     "output_type": "stream",
     "text": [
      "Number of Arms: 3\n"
     ]
    }
   ],
   "source": [
    "Alpha = 1\n",
    "ats = Data_big_cat.head(int(Data_big_cat.shape[0]/2))\n",
    "Features = [\"country_alias_country_group1\",\"country_alias_country_group2\", \"country_alias_country_group3\",\n",
    "            \"platform_alias_platform2\", \"source_alias_source2\", \"NGU\", \"return_d1\", \"ad_revenue_d1\", \"num_sessions_d1\",\n",
    "            \"return_d1\", \"ad_revenue_d1\", \"num_sessions_d1\", \"time_played_d1\",\n",
    "            \"return_d3\", \"ad_revenue_d3\", \"num_sessions_d3\", \"time_played_d3\",\n",
    "           ]\n",
    "#Reward = \"time_played_d3\"\n",
    "Reward = \"converted_d7\"\n",
    "Arms = np.unique(ats.ab_test_experience_id).shape[0]\n",
    "print(\"Number of Arms:\", Arms)"
   ]
  },
  {
   "cell_type": "code",
   "execution_count": 399,
   "id": "60bae8fe",
   "metadata": {},
   "outputs": [
    {
     "name": "stderr",
     "output_type": "stream",
     "text": [
      "100%|███████████████████████████████████████████████████████████████████████████| 77293/77293 [05:36<00:00, 229.65it/s]\n"
     ]
    }
   ],
   "source": [
    "Path_Algo, Times_Aligned, Arms_Rewards, Aligned_Reward, UCB_Object, Times_ArmsChosen, Mark_dic, Features_dic = LinUCB_Algorithm(Data = ats, Features = Features, Reward_Feature = Reward, Alpha = Alpha)"
   ]
  },
  {
   "cell_type": "code",
   "execution_count": 387,
   "id": "e3edfa02",
   "metadata": {},
   "outputs": [
    {
     "name": "stdout",
     "output_type": "stream",
     "text": [
      "0.014052235401459858\n",
      "0.011139534426100474\n",
      "0.010740045739752537\n"
     ]
    },
    {
     "data": {
      "text/plain": [
       "0.011998563906175182"
      ]
     },
     "execution_count": 387,
     "metadata": {},
     "output_type": "execute_result"
    }
   ],
   "source": [
    "for k in range(len(np.unique(ats[\"ab_test_experience_id\"]))):\n",
    "    print(np.mean(ats[ats[\"ab_test_experience_id\"] == k][Reward]))\n",
    "    \n",
    "np.mean(ats[Reward])"
   ]
  },
  {
   "cell_type": "code",
   "execution_count": 388,
   "id": "0c03abb6",
   "metadata": {},
   "outputs": [
    {
     "name": "stdout",
     "output_type": "stream",
     "text": [
      "0.3310843155266324\n",
      "0.01786719180802691\n",
      "[0.042069670227589416, 0.005863536316947907, 0.005668368879543404]\n",
      "[10765, 20445, 19974]\n"
     ]
    }
   ],
   "source": [
    "print(Times_Aligned/ats.shape[0])\n",
    "print(np.mean([i / j for i, j in zip(Arms_Rewards, Times_ArmsChosen)]))\n",
    "print([i / j for i, j in zip(Arms_Rewards, Times_ArmsChosen)])\n",
    "print(Times_ArmsChosen)"
   ]
  },
  {
   "cell_type": "code",
   "execution_count": 389,
   "id": "09ef8606",
   "metadata": {},
   "outputs": [
    {
     "data": {
      "text/plain": [
       "<AxesSubplot:>"
      ]
     },
     "execution_count": 389,
     "metadata": {},
     "output_type": "execute_result"
    },
    {
     "data": {
      "image/png": "[encoded data removed]",
      "text/plain": [
       "<Figure size 432x288 with 1 Axes>"
      ]
     },
     "metadata": {
      "needs_background": "light"
     },
     "output_type": "display_data"
    }
   ],
   "source": [
    "Path_Algo = pd.DataFrame(Path_Algo, columns = [\"X\"])\n",
    "for i in range(len(np.unique(Path_Algo))):\n",
    "    Path_Algo['Arm{}'.format(i)] = (Path_Algo[\"X\"] == i).cumsum()\n",
    "    \n",
    "df = Path_Algo.loc[:, Path_Algo.columns != \"X\"]\n",
    "df.plot()"
   ]
  },
  {
   "cell_type": "code",
   "execution_count": 390,
   "id": "c57dc190",
   "metadata": {},
   "outputs": [
    {
     "name": "stdout",
     "output_type": "stream",
     "text": [
      "0.01462718227313379\n"
     ]
    },
    {
     "data": {
      "text/plain": [
       "<AxesSubplot:>"
      ]
     },
     "execution_count": 390,
     "metadata": {},
     "output_type": "execute_result"
    },
    {
     "data": {
      "image/png": "[encoded data removed]",
      "text/plain": [
       "<Figure size 432x288 with 1 Axes>"
      ]
     },
     "metadata": {
      "needs_background": "light"
     },
     "output_type": "display_data"
    }
   ],
   "source": [
    "print(np.mean(Aligned_Reward))\n",
    "pd.DataFrame(Aligned_Reward).plot()"
   ]
  },
  {
   "cell_type": "markdown",
   "id": "63cb0524",
   "metadata": {},
   "source": [
    "### Run it multiple times with different alphas"
   ]
  },
  {
   "cell_type": "code",
   "execution_count": 44,
   "id": "f0c12920",
   "metadata": {},
   "outputs": [
    {
     "name": "stderr",
     "output_type": "stream",
     "text": [
      "100%|███████████████████████████████████████████████████████████████████████████████| 15/15 [1:49:28<00:00, 437.93s/it]\n"
     ]
    }
   ],
   "source": [
    "Alphas = [1.3, 1.5, 2]\n",
    "Times = 15\n",
    "Feat_Mult = {}\n",
    "Mark_Mult = {}\n",
    "for x in range(Times):\n",
    "        Feat_Mult[\"Feat{0}_Mult\".format(x)] = {}\n",
    "        Mark_Mult[\"Mark{0}_Mult\".format(x)] = {}\n",
    "        \n",
    "Times_ArmsChosen_Mult = []\n",
    "Mean_Reward = []\n",
    "Mean_RewardArms = []\n",
    "\n",
    "for k in tqdm(range(Times)):\n",
    "    Times_Aligned, Arms_Rewards, Aligned_Reward, UCB_Object, Times_ArmsChosen, Mark_dic, Features_dic = LinUCB_Algorithm(Data = ats, Features = Features, Reward = Reward, Alpha = Alpha)\n",
    "    Times_ArmsChosen_Mult.append(Times_ArmsChosen)\n",
    "    \n",
    "    for x in range(len(Mark_dic.keys())):\n",
    "        Mark_Mult[\"Mark{0}_Mult\".format(k)] = Mark_dic\n",
    "        Feat_Mult[\"Feat{0}_Mult\".format(k)] = Features_dic\n",
    "    \n",
    "    Mean_Reward.append(np.mean([i / j for i, j in zip(Arms_Rewards, Times_ArmsChosen)]))\n",
    "    Mean_RewardArms.append([i / j for i, j in zip(Arms_Rewards, Times_ArmsChosen)])"
   ]
  },
  {
   "cell_type": "code",
   "execution_count": 46,
   "id": "186e06cc",
   "metadata": {},
   "outputs": [
    {
     "data": {
      "image/png": "[encoded data removed]",
      "text/plain": [
       "<Figure size 432x288 with 1 Axes>"
      ]
     },
     "metadata": {
      "needs_background": "light"
     },
     "output_type": "display_data"
    },
    {
     "data": {
      "text/plain": [
       "array([124.54476402,  22.69306449])"
      ]
     },
     "execution_count": 46,
     "metadata": {},
     "output_type": "execute_result"
    }
   ],
   "source": [
    "x = range(len(Mean_RewardArms))\n",
    "for l in range(len(Mean_RewardArms[0])):\n",
    "    plt.plot(x, np.array(Mean_RewardArms)[:,l], label = \"Arm{}\".format(l))\n",
    "plt.legend()\n",
    "plt.show()\n",
    "np.mean(np.array(Mean_RewardArms), axis=0)"
   ]
  },
  {
   "cell_type": "code",
   "execution_count": 48,
   "id": "026ebc97",
   "metadata": {},
   "outputs": [
    {
     "name": "stdout",
     "output_type": "stream",
     "text": [
      "Proportion source_alias_source2 equals 0 for arm 0 is: 82.521056795329\n",
      "Proportion source_alias_source2 equals 0 for arm 1 is: 72.52139088884341\n"
     ]
    },
    {
     "data": {
      "text/plain": [
       "[82.521056795329, 72.52139088884341]"
      ]
     },
     "execution_count": 48,
     "metadata": {},
     "output_type": "execute_result"
    }
   ],
   "source": [
    "Extract_Mean_Feature(Mark_Mult, Feat_Mult, \"source_alias_source2\", Print = True)"
   ]
  },
  {
   "cell_type": "markdown",
   "id": "b0727e11",
   "metadata": {},
   "source": [
    "# TEST MULTIPLE RUNS"
   ]
  },
  {
   "cell_type": "code",
   "execution_count": 81,
   "id": "2e267e88",
   "metadata": {},
   "outputs": [],
   "source": [
    "Features = [\"country_alias_country_group1\",\"country_alias_country_group2\", \"country_alias_country_group3\",\n",
    "          \"platform_alias_platform2\", \"source_alias_source2\", \n",
    "          \"NGU\", \"return_d1\", \"ad_revenue_d1\", \"num_sessions_d1\"]\n",
    "Reward = \"time_played_d3\"\n",
    "Alpha = 1.5\n",
    "Times = 15\n",
    "ats = Data_big_cat.head(int(Data_big_cat.shape[0]/3))"
   ]
  },
  {
   "cell_type": "code",
   "execution_count": 105,
   "id": "1bf75dec",
   "metadata": {},
   "outputs": [],
   "source": [
    "def Multiple_Runs(Times, Data, Features, Reward, Alpha):\n",
    "    Feat_Mult = {}\n",
    "    Mark_Mult = {}\n",
    "    \n",
    "    for x in range(Times):\n",
    "        Feat_Mult[\"Feat{0}_Mult\".format(x)] = {}\n",
    "        Mark_Mult[\"Mark{0}_Mult\".format(x)] = {}\n",
    "        \n",
    "    Times_ArmsChosen_Mult = []\n",
    "    Mean_Reward = []\n",
    "    Mean_RewardArms = []\n",
    "\n",
    "    for k in tqdm(range(Times)):\n",
    "        Times_Aligned, Arms_Rewards, Aligned_Reward, UCB_Object, Times_ArmsChosen, Mark_dic, Features_dic = LinUCB_Algorithm(Data, Alpha, Features, Reward)\n",
    "        for x in range(len(Mark_dic.keys())):\n",
    "            Mark_Mult[\"Mark{0}_Mult\".format(k)] = Mark_dic\n",
    "            Feat_Mult[\"Feat{0}_Mult\".format(k)] = Features_dic\n",
    "    \n",
    "        Mean_Reward.append(np.mean([i / j for i, j in zip(Arms_Rewards, Times_ArmsChosen)]))\n",
    "        Mean_RewardArms.append([i / j for i, j in zip(Arms_Rewards, Times_ArmsChosen)])\n",
    "        Times_ArmsChosen_Mult.append(Times_ArmsChosen)\n",
    "        \n",
    "    return Mean_Reward, Mean_RewardArms, Mark_Mult, Feat_Mult, Times_ArmsChosen_Mult"
   ]
  },
  {
   "cell_type": "code",
   "execution_count": 109,
   "id": "1f14c002",
   "metadata": {},
   "outputs": [
    {
     "name": "stderr",
     "output_type": "stream",
     "text": [
      "100%|███████████████████████████████████████████████████████████████████████████████| 10/10 [1:06:18<00:00, 397.88s/it]\n"
     ]
    }
   ],
   "source": [
    "Mean_Reward, Mean_RewardArms, Mark_Mult, Feat_Mult, Times_ArmsChosen = Multiple_Runs(Times = 2, Data = Data0_cat, Features = Features, Reward = Reward, Alpha = Alpha)"
   ]
  },
  {
   "cell_type": "code",
   "execution_count": 110,
   "id": "cb641b7a",
   "metadata": {},
   "outputs": [
    {
     "data": {
      "text/plain": [
       "[[55973, 17277],\n",
       " [53219, 20101],\n",
       " [12950, 60886],\n",
       " [21180, 52699],\n",
       " [31082, 42816],\n",
       " [24906, 48871],\n",
       " [27428, 46289],\n",
       " [57655, 15681],\n",
       " [14630, 59260],\n",
       " [30798, 43044]]"
      ]
     },
     "execution_count": 110,
     "metadata": {},
     "output_type": "execute_result"
    }
   ],
   "source": [
    "print(Times_ArmsChosen)\n",
    "pd.DataFrame(Times_ArmsChosen).idxmax(axis=1).value_counts()"
   ]
  },
  {
   "cell_type": "code",
   "execution_count": 143,
   "id": "d8113044",
   "metadata": {},
   "outputs": [
    {
     "name": "stdout",
     "output_type": "stream",
     "text": [
      "0    0.767642\n",
      "1    0.232358\n",
      "Name: source_alias_source2, dtype: float64\n",
      "Proportion source_alias_source2 equals 0 for arm 0 is: 79.69987884298256\n",
      "Proportion source_alias_source2 equals 0 for arm 1 is: 75.88295314227447\n"
     ]
    },
    {
     "data": {
      "image/png": "[encoded data removed]",
      "text/plain": [
       "<Figure size 432x288 with 1 Axes>"
      ]
     },
     "metadata": {
      "needs_background": "light"
     },
     "output_type": "display_data"
    },
    {
     "name": "stdout",
     "output_type": "stream",
     "text": [
      "0    0.867106\n",
      "1    0.132894\n",
      "Name: platform_alias_platform2, dtype: float64\n",
      "Proportion platform_alias_platform2 equals 0 for arm 0 is: 89.42845897216728\n",
      "Proportion platform_alias_platform2 equals 0 for arm 1 is: 86.32859684950253\n"
     ]
    },
    {
     "data": {
      "image/png": "[encoded data removed]",
      "text/plain": [
       "<Figure size 432x288 with 1 Axes>"
      ]
     },
     "metadata": {
      "needs_background": "light"
     },
     "output_type": "display_data"
    },
    {
     "name": "stdout",
     "output_type": "stream",
     "text": [
      "country_alias_country_group3    0.813944\n",
      "country_alias_country_group2    0.103507\n",
      "country_alias_country_group1    0.082550\n",
      "dtype: float64\n",
      "Proportion country for arm 0 is: [0.04538473 0.10572268 0.84889259]\n",
      "Proportion country for arm 1 is: [0.08501417 0.10408396 0.81090187]\n"
     ]
    },
    {
     "data": {
      "image/png": "[encoded data removed]",
      "text/plain": [
       "<Figure size 432x288 with 1 Axes>"
      ]
     },
     "metadata": {
      "needs_background": "light"
     },
     "output_type": "display_data"
    }
   ],
   "source": [
    "print(ats[\"source_alias_source2\"].value_counts(normalize=True))\n",
    "Plot1(\"source_alias_source2\", Mark_Mult, Feat_Mult)\n",
    "print(ats[\"platform_alias_platform2\"].value_counts(normalize=True))\n",
    "Plot1(\"platform_alias_platform2\", Mark_Mult, Feat_Mult)\n",
    "print(ats[['country_alias_country_group1', 'country_alias_country_group2', 'country_alias_country_group3']].idxmax(axis=1).value_counts(normalize = True))\n",
    "Plot2_2arms()"
   ]
  },
  {
   "cell_type": "code",
   "execution_count": null,
   "id": "d50a73cc",
   "metadata": {},
   "outputs": [],
   "source": []
  }
 ],
 "metadata": {
  "kernelspec": {
   "display_name": "Python 3 (ipykernel)",
   "language": "python",
   "name": "python3"
  },
  "language_info": {
   "codemirror_mode": {
    "name": "ipython",
    "version": 3
   },
   "file_extension": ".py",
   "mimetype": "text/x-python",
   "name": "python",
   "nbconvert_exporter": "python",
   "pygments_lexer": "ipython3",
   "version": "3.9.12"
  }
 },
 "nbformat": 4,
 "nbformat_minor": 5
}
